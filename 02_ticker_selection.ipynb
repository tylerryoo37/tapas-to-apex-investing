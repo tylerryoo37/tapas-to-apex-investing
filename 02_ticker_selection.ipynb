{
 "cells": [
  {
   "cell_type": "code",
   "execution_count": null,
   "metadata": {},
   "outputs": [],
   "source": [
    "import yfinance as yf\n",
    "import pandas as pd\n",
    "import os\n",
    "import glob\n",
    "from datetime import datetime\n",
    "import numpy as np"
   ]
  },
  {
   "cell_type": "code",
   "execution_count": null,
   "metadata": {},
   "outputs": [],
   "source": [
    "path = os.getcwd()"
   ]
  },
  {
   "cell_type": "code",
   "execution_count": null,
   "metadata": {},
   "outputs": [],
   "source": [
    "# Get all CSV files with 'stock_data' in filename\n",
    "stock_files = glob.glob(\"*stock_data*.csv\")\n",
    "\n",
    "print(\"Stock data files:\")\n",
    "for file in stock_files:\n",
    "    print(f\"  {file}\")"
   ]
  },
  {
   "cell_type": "code",
   "execution_count": null,
   "metadata": {},
   "outputs": [],
   "source": [
    "file_name = \"stock_data_current_20250906_012221.csv\"\n",
    "file_path = path + \"/\" + file_name"
   ]
  },
  {
   "cell_type": "code",
   "execution_count": null,
   "metadata": {},
   "outputs": [],
   "source": [
    "df = pd.read_csv(file_path, header = 0)\n",
    "df = df.rename(columns={\"Unnamed: 0\": \"Metrics\"})\n",
    "df = df.set_index('Metrics')"
   ]
  },
  {
   "cell_type": "code",
   "execution_count": null,
   "metadata": {},
   "outputs": [],
   "source": [
    "df"
   ]
  },
  {
   "cell_type": "code",
   "execution_count": null,
   "metadata": {},
   "outputs": [],
   "source": [
    "def filter_stocks_by_criteria(df, criteria):\n",
    "    \"\"\"\n",
    "    Filter stocks based on multiple criteria\n",
    "    \n",
    "    Parameters:\n",
    "    df: DataFrame from get_stock_metrics()\n",
    "    criteria: dict of filtering criteria, e.g.:\n",
    "        {\n",
    "            'P/E Ratio TTM': {'max': 15, 'min': 1},\n",
    "            'Current Ratio MRQ': {'min': 1.5},\n",
    "            'ROE TTM': {'min': 0.15},\n",
    "            'Debt to Equity MRQ': {'max': 50}\n",
    "        }\n",
    "    \n",
    "    Returns:\n",
    "    dict: {\n",
    "        'filtered_tickers': list of tickers that meet all criteria,\n",
    "        'results_summary': summary stats,\n",
    "        'detailed_results': DataFrame with only filtered tickers\n",
    "    }\n",
    "    \"\"\"\n",
    "    filtered_tickers = []\n",
    "    filter_results = {}\n",
    "    \n",
    "    for ticker in df.columns:\n",
    "        meets_all_criteria = True\n",
    "        ticker_results = {'ticker': ticker}\n",
    "        \n",
    "        # Check each criterion\n",
    "        for metric, conditions in criteria.items():\n",
    "            if metric not in df.index:\n",
    "                ticker_results[f\"{metric}_status\"] = \"metric_not_found\"\n",
    "                meets_all_criteria = False\n",
    "                continue\n",
    "                \n",
    "            value = df.loc[metric, ticker]\n",
    "            \n",
    "            # Skip if no data (including NaN values)\n",
    "            if pd.isna(value) or value == 'N/A' or value == 'NaN':\n",
    "                ticker_results[f\"{metric}_status\"] = \"no_data\"\n",
    "                meets_all_criteria = False\n",
    "                continue\n",
    "            \n",
    "            # Convert to float if it's a string number\n",
    "            try:\n",
    "                if isinstance(value, str):\n",
    "                    value = float(value)\n",
    "            except (ValueError, TypeError):\n",
    "                ticker_results[f\"{metric}_status\"] = \"conversion_error\"\n",
    "                meets_all_criteria = False\n",
    "                continue\n",
    "            \n",
    "            # Final check for numeric validity\n",
    "            if not isinstance(value, (int, float)) or np.isnan(value):\n",
    "                ticker_results[f\"{metric}_status\"] = \"invalid_data\"\n",
    "                meets_all_criteria = False\n",
    "                continue\n",
    "                \n",
    "            ticker_results[f\"{metric}_value\"] = value\n",
    "            \n",
    "            # Check min condition\n",
    "            if 'min' in conditions and value < conditions['min']:\n",
    "                ticker_results[f\"{metric}_status\"] = f\"below_min_{conditions['min']}\"\n",
    "                meets_all_criteria = False\n",
    "                continue\n",
    "                \n",
    "            # Check max condition  \n",
    "            if 'max' in conditions and value > conditions['max']:\n",
    "                ticker_results[f\"{metric}_status\"] = f\"above_max_{conditions['max']}\"\n",
    "                meets_all_criteria = False\n",
    "                continue\n",
    "                \n",
    "            ticker_results[f\"{metric}_status\"] = \"pass\"\n",
    "        \n",
    "        filter_results[ticker] = ticker_results\n",
    "        \n",
    "        if meets_all_criteria:\n",
    "            filtered_tickers.append(ticker)\n",
    "    \n",
    "    # Create filtered DataFrame\n",
    "    filtered_df = df[filtered_tickers] if filtered_tickers else pd.DataFrame()\n",
    "    \n",
    "    # Summary stats\n",
    "    summary = {\n",
    "        'total_tickers_analyzed': len(df.columns),\n",
    "        'tickers_meeting_criteria': len(filtered_tickers),\n",
    "        'success_rate': (len(filtered_tickers) / len(df.columns)) * 100 if df.columns.size > 0 else 0,\n",
    "        'criteria_applied': criteria\n",
    "    }\n",
    "    \n",
    "    return {\n",
    "        'filtered_tickers': filtered_tickers,\n",
    "        'results_summary': summary,\n",
    "        'detailed_results': filtered_df,\n",
    "        'filter_breakdown': filter_results\n",
    "    }"
   ]
  },
  {
   "cell_type": "code",
   "execution_count": null,
   "metadata": {},
   "outputs": [],
   "source": [
    "def get_good_pe_stocks(df, max_pe=15):\n",
    "    \"\"\"\n",
    "    Simple wrapper to get stocks with good P/E ratios\n",
    "    \n",
    "    Parameters:\n",
    "    df: DataFrame from get_stock_metrics()\n",
    "    max_pe: maximum P/E ratio (default: 15)\n",
    "    \n",
    "    Returns:\n",
    "    dict: Results from filter_stocks_by_criteria\n",
    "    \"\"\"\n",
    "    criteria = {\n",
    "        'P/E Ratio TTM': {'max': max_pe, 'min': 1}\n",
    "    }\n",
    "    \n",
    "    return filter_stocks_by_criteria(df, criteria)"
   ]
  },
  {
   "cell_type": "code",
   "execution_count": null,
   "metadata": {},
   "outputs": [],
   "source": [
    "# Filter for good P/E ratios (15 or lower)\n",
    "print(\"\\n🎯 FILTERING FOR GOOD P/E RATIOS:\")\n",
    "pe_results = get_good_pe_stocks(df, max_pe=15)\n",
    "\n",
    "print(f\"✅ Found {len(pe_results['filtered_tickers'])} stocks with P/E ≤ 15:\")\n",
    "for ticker in pe_results['filtered_tickers']:\n",
    "    pe_value = df.loc['P/E Ratio TTM', ticker]\n",
    "    company = df.loc['Company Name', ticker]\n",
    "    print(f\"  • {ticker}: {company} (P/E: {pe_value})\")\n",
    "\n",
    "print(f\"\\n📊 Success Rate: {pe_results['results_summary']['success_rate']:.1f}%\")\n"
   ]
  },
  {
   "cell_type": "code",
   "execution_count": null,
   "metadata": {},
   "outputs": [],
   "source": [
    "def get_value_stocks(df):\n",
    "    \"\"\"\n",
    "    Get stocks that meet multiple value investing criteria\n",
    "    \n",
    "    Parameters:\n",
    "    df: DataFrame from get_stock_metrics()\n",
    "    \n",
    "    Returns:\n",
    "    dict: Results from filter_stocks_by_criteria\n",
    "    \"\"\"\n",
    "    criteria = {\n",
    "        'P/E Ratio TTM': {'max': 15, 'min': 5},\n",
    "        'P/B Ratio': {'max': 3.3, 'min': 0.3},\n",
    "        'P/S Ratio TTM': {'max': 3, 'min': 0.1},\n",
    "        'ROE TTM': {'min': 0.12},\n",
    "        'Current Ratio MRQ': {'min': 1.2},\n",
    "        'Debt to Equity MRQ': {'max': 75}, \n",
    "    }\n",
    "    \n",
    "    return filter_stocks_by_criteria(df, criteria)"
   ]
  },
  {
   "cell_type": "code",
   "execution_count": null,
   "metadata": {},
   "outputs": [],
   "source": [
    "# Example: Filter for value stocks with multiple criteria\n",
    "print(\"\\n💎 FILTERING FOR VALUE STOCKS:\")\n",
    "value_results = get_value_stocks(df)\n",
    "\n",
    "print(f\"✅ Found {len(value_results['filtered_tickers'])} value stocks:\")\n",
    "for ticker in value_results['filtered_tickers']:\n",
    "    pe_value = df.loc['P/E Ratio TTM', ticker] \n",
    "    pb_value = df.loc['P/B Ratio', ticker]\n",
    "    ps_value = df.loc['P/S Ratio TTM', ticker]\n",
    "    roe_value = df.loc['ROE TTM', ticker]\n",
    "    current_ratio = df.loc['Current Ratio MRQ', ticker]\n",
    "    debt_to_equity = df.loc['Debt to Equity MRQ', ticker]\n",
    "    company = df.loc['Company Name', ticker]\n",
    "    print(f\"  • {ticker}: {company}\")\n",
    "    print(f\"    P/E: {pe_value}\")\n",
    "    print(f\"    P/B: {pb_value}\")\n",
    "    print(f\"    P/S: {ps_value}\")\n",
    "    print(f\"    ROE: {roe_value}\")\n",
    "    print(f\"    Current Ratio: {current_ratio}\")\n",
    "    print(f\"    Debt/Equity: {debt_to_equity}\")\n",
    "    \n",
    "print(f\"\\n📊 Success Rate: {value_results['results_summary']['success_rate']:.1f}%\")"
   ]
  },
  {
   "cell_type": "code",
   "execution_count": null,
   "metadata": {},
   "outputs": [],
   "source": [
    "# Save filtered results\n",
    "# timestamp = datetime.now().strftime('%Y%m%d_%H%M%S')\n",
    "\n",
    "# if pe_results['filtered_tickers']:\n",
    "#     pe_filename = f'good_pe_stocks_{timestamp}.csv'\n",
    "#     pe_results['detailed_results'].to_csv(pe_filename)\n",
    "#     print(f\"\\n💾 Good P/E stocks saved to: {pe_filename}\")\n"
   ]
  },
  {
   "cell_type": "code",
   "execution_count": null,
   "metadata": {},
   "outputs": [],
   "source": []
  }
 ],
 "metadata": {
  "kernelspec": {
   "display_name": "venv-tyler",
   "language": "python",
   "name": "python3"
  },
  "language_info": {
   "codemirror_mode": {
    "name": "ipython",
    "version": 3
   },
   "file_extension": ".py",
   "mimetype": "text/x-python",
   "name": "python",
   "nbconvert_exporter": "python",
   "pygments_lexer": "ipython3",
   "version": "3.9.13"
  }
 },
 "nbformat": 4,
 "nbformat_minor": 2
}
