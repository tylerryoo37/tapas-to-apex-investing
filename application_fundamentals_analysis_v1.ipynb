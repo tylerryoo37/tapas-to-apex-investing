{
 "cells": [
  {
   "cell_type": "code",
   "execution_count": null,
   "metadata": {},
   "outputs": [],
   "source": [
    "# One-click execution for Claude Code MCP integration\n",
    "# Run this cell and Claude Code can analyze immediately without additional prompts\n",
    "\n",
    "import yfinance as yf\n",
    "import pandas as pd\n",
    "import os\n",
    "import glob\n",
    "from datetime import datetime\n",
    "import numpy as np\n",
    "\n",
    "# Get all CSV files with 'stock_data' in filename\n",
    "stock_files = glob.glob(\"*stock_data*.csv\")\n",
    "\n",
    "print(\"Stock data files:\")\n",
    "for file in stock_files:\n",
    "    print(f\"  {file}\")\n",
    "    print()\n",
    "    \n",
    "# Quick analysis trigger for Claude Code\n",
    "def show_analysis_data(df, ticker, single_df):\n",
    "    \"\"\"Display formatted data for Claude Code analysis\"\"\"\n",
    "    col_width = 50\n",
    "    print(\"=\" * 80)\n",
    "    print(f\"📊 {df.loc['Company Name', ticker]} ({ticker}) - Financial Data\")\n",
    "    print(\"=\" * 80)\n",
    "    \n",
    "    for metric in df.index:\n",
    "        value = df.loc[metric, ticker]\n",
    "        if pd.notna(value) and metric != \"Business Summary\":\n",
    "            print(f\"{metric:<{col_width}} {value}\")\n",
    "    \n",
    "    # return single_df\n",
    "\n",
    "# Ready for: show_analysis_data() then direct analysis\n",
    "print(\"✅ Analysis function ready - Claude Code can call show_analysis_data()\")\n",
    "\n",
    "# Load data\n",
    "path = os.getcwd()\n",
    "file_name = \"stock_data_current_20250906_012221.csv\"\n",
    "file_path = path + \"/\" + file_name\n",
    "\n",
    "df = pd.read_csv(file_path, header=0)\n",
    "df = df.rename(columns={\"Unnamed: 0\": \"Metrics\"})\n",
    "df = df.set_index('Metrics')\n",
    "\n",
    "ticker = 'RKLB'\n",
    "single_df = df[ticker].to_frame()\n",
    "\n",
    "# Analysis is ready - Claude Code can now access df, single_df, and ticker variables\n",
    "print(\"✅ All data loaded - Claude Code ready for direct analysis\")\n",
    "\n",
    "show_analysis_data(df, ticker, single_df)"
   ]
  },
  {
   "cell_type": "code",
   "execution_count": null,
   "metadata": {},
   "outputs": [],
   "source": [
    "prompt = '''\n",
    "Analyze the financial metrics in single_df for comprehensive investment analysis.\n",
    "\n",
    "Required Analysis Structure:\n",
    "1. Company Overview (sector, industry, market cap, current price)\n",
    "2. Financial Health Dashboard with traffic light indicators (🟢🟡🔴):\n",
    "   • Valuation: P/E, P/B, P/S ratios\n",
    "   • Health: Current ratio, debt/equity, cash position  \n",
    "   • Profitability: ROE, ROA, margins (gross, operating, profit)\n",
    "   • Growth: Revenue growth rates\n",
    "3. Major Red Flags (🔴 critical issues)\n",
    "4. Key Strengths (🟢 positive factors)\n",
    "5. Investment Score (0-100 with breakdown by category)\n",
    "6. Clear Investment Recommendation (🔴 AVOID/SELL, 🟡 HOLD, 🟢 BUY/STRONG BUY)\n",
    "7. Position sizing guidance (% of portfolio)\n",
    "8. Price analysis (current vs target, 52-week range)\n",
    "9. Key risks and concerns\n",
    "\n",
    "Format Requirements:\n",
    "• Use emojis for visual clarity (🔴🟡🟢)\n",
    "• Include specific numerical thresholds for ratings\n",
    "• Provide brief rationale for recommendation\n",
    "• Keep analysis concise but comprehensive\n",
    "• Focus on actionable insights for investment decisions\n",
    "\n",
    "Analyze the company objectively, highlighting both strengths and weaknesses with clear reasoning.\n",
    "'''"
   ]
  },
  {
   "cell_type": "markdown",
   "metadata": {},
   "source": [
    "## 🤖 Claude Code Integration       \n",
    "\n",
    " **Instruction:** Activate Claude Code and run the analysis prompt: \n",
    " \n",
    " > \"Analyze the stock in this notebook\"    "
   ]
  },
  {
   "cell_type": "markdown",
   "metadata": {},
   "source": []
  }
 ],
 "metadata": {
  "kernelspec": {
   "display_name": "venv-tyler",
   "language": "python",
   "name": "python3"
  },
  "language_info": {
   "codemirror_mode": {
    "name": "ipython",
    "version": 3
   },
   "file_extension": ".py",
   "mimetype": "text/x-python",
   "name": "python",
   "nbconvert_exporter": "python",
   "pygments_lexer": "ipython3",
   "version": "3.9.13"
  }
 },
 "nbformat": 4,
 "nbformat_minor": 2
}
