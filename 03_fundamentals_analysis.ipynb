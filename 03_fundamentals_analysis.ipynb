{
 "cells": [
  {
   "cell_type": "code",
   "execution_count": null,
   "metadata": {},
   "outputs": [],
   "source": [
    "import yfinance as yf\n",
    "import pandas as pd\n",
    "import os\n",
    "import glob\n",
    "from datetime import datetime\n",
    "import numpy as np\n",
    "\n",
    "# Get all CSV files with 'stock_data' in filename\n",
    "stock_files = glob.glob(\"*stock_data*.csv\")\n",
    "\n",
    "print(\"Stock data files:\")\n",
    "for file in stock_files:\n",
    "    print(f\"  {file}\")\n",
    "    print()"
   ]
  },
  {
   "cell_type": "code",
   "execution_count": null,
   "metadata": {},
   "outputs": [],
   "source": [
    "choose_file_name = 'stock_data_current_20250916_nasdaq.csv'\n",
    "choose_ticker = 'PDD'"
   ]
  },
  {
   "cell_type": "code",
   "execution_count": null,
   "metadata": {},
   "outputs": [],
   "source": [
    "# One-click execution for Claude Code MCP integration\n",
    "# Run this cell and Claude Code can analyze immediately without additional prompts\n",
    "\n",
    "# Quick analysis trigger for Claude Code\n",
    "def show_analysis_data(df, ticker, single_df):\n",
    "    \"\"\"Display formatted data for Claude Code analysis\"\"\"\n",
    "    col_width = 50\n",
    "    print(\"=\" * 80)\n",
    "    print(f\"📊 {df.loc['Company Name', ticker]} ({ticker}) - Financial Data\")\n",
    "    print(\"=\" * 80)\n",
    "    \n",
    "    for metric in df.index:\n",
    "        value = df.loc[metric, ticker]\n",
    "        if pd.notna(value) and metric != \"Business Summary\":\n",
    "            print(f\"{metric:<{col_width}} {value}\")\n",
    "    \n",
    "    # return single_df\n",
    "\n",
    "# Ready for: show_analysis_data() then direct analysis\n",
    "print(\"✅ Analysis function ready - Claude Code can call show_analysis_data()\")\n",
    "\n",
    "# Load data\n",
    "path = os.getcwd()\n",
    "file_name = choose_file_name\n",
    "file_path = path + \"/\" + file_name\n",
    "\n",
    "df = pd.read_csv(file_path, header=0)\n",
    "df = df.rename(columns={\"Unnamed: 0\": \"Metrics\"})\n",
    "df = df.set_index('Metrics')\n",
    "\n",
    "ticker = choose_ticker\n",
    "single_df = df[ticker].to_frame()\n",
    "\n",
    "# Analysis is ready - Claude Code can now access df, single_df, and ticker variables\n",
    "print(\"✅ All data loaded - Claude Code ready for direct analysis\")\n",
    "\n",
    "show_analysis_data(df, ticker, single_df)"
   ]
  },
  {
   "cell_type": "code",
   "execution_count": null,
   "metadata": {},
   "outputs": [],
   "source": [
    "# Simplified Stock Monitoring - Two Essential Functions\n",
    "\n",
    "def daily_update():\n",
    "    \"\"\"Daily/Weekly status update on current ticker\"\"\"\n",
    "    company_name = single_df.loc['Company Name'].iloc[0] if 'Company Name' in single_df.index else ticker\n",
    "    \n",
    "    print(f\"📈 DAILY UPDATE: {company_name} ({ticker})\")\n",
    "    print(\"=\" * 60)\n",
    "    print(\"🔍 Claude Code: Search for recent news and developments focusing on:\")\n",
    "    print(\"   • Latest company announcements\")\n",
    "    print(\"   • Financial updates or guidance changes\") \n",
    "    print(\"   • Industry/competitive developments\")\n",
    "    print(\"   • Stock price movements and analyst changes\")\n",
    "    print(\"   • Any material developments affecting investment thesis\")\n",
    "    print(\"\\n✅ Provide 3-5 bullet summary of key developments\")\n",
    "\n",
    "def comprehensive_analysis():\n",
    "    \"\"\"Full comprehensive investment analysis\"\"\"\n",
    "    company_name = single_df.loc['Company Name'].iloc[0] if 'Company Name' in single_df.index else ticker\n",
    "    \n",
    "    print(f\"📊 COMPREHENSIVE ANALYSIS: {company_name} ({ticker})\")\n",
    "    print(\"=\" * 60)\n",
    "    print(\"🎯 Claude Code: Perform complete investment analysis with:\")\n",
    "    print(\"\\n1. Company Overview (sector, industry, market cap, current price)\")\n",
    "    print(\"2. Financial Health Dashboard with traffic light indicators (🟢🟡🔴):\")\n",
    "    print(\"   • Valuation: P/E, P/B, P/S ratios\")\n",
    "    print(\"   • Health: Current ratio, debt/equity, cash position\")  \n",
    "    print(\"   • Profitability: ROE, ROA, margins (gross, operating, profit)\")\n",
    "    print(\"   • Growth: Revenue growth rates\")\n",
    "    print(\"3. Technical Analysis Dashboard:\")\n",
    "    print(\"   • Momentum: 1M, 3M, 6M, 1Y momentum percentages\")\n",
    "    print(\"   • Volume Analysis: Current vs average volume, volume changes\")\n",
    "    print(\"   • Beta and volatility assessment\")\n",
    "    print(\"   • Relative strength (position within 52-week range, NOT vs. market)\")\n",
    "    print(\"4. Major Red Flags (🔴 critical issues)\")\n",
    "    print(\"5. Key Strengths (🟢 positive factors)\")\n",
    "    print(\"6. Investment Score (0-100 with breakdown by category)\")\n",
    "    print(\"7. Clear Investment Recommendation (🔴 AVOID/SELL, 🟡 HOLD, 🟢 BUY/STRONG BUY)\")\n",
    "    print(\"8. Position sizing guidance (% of portfolio)\")\n",
    "    print(\"9. Price analysis (current vs target, 52-week range)\")\n",
    "    print(\"10. Key risks and concerns\")\n",
    "    print(\"\\n📋 Use emojis for visual clarity (🔴🟡🟢)\")\n",
    "    print(\"✅ Focus on actionable insights for investment decisions\")\n",
    "\n",
    "# Quick access - no parameters needed\n",
    "print(\"🤖 SIMPLIFIED STOCK MONITORING\")\n",
    "print(\"=\" * 40)\n",
    "print(\"Two functions available:\")\n",
    "print(\"• daily_update() - Quick news and developments\")\n",
    "print(\"• comprehensive_analysis() - Full investment analysis\")\n",
    "print(f\"\\nCurrent ticker: {ticker}\")\n",
    "print(\"Just run the function - Claude Code will handle the rest!\")"
   ]
  },
  {
   "cell_type": "markdown",
   "metadata": {},
   "source": [
    "## 🤖 Simplified Claude Code Integration\n",
    "\n",
    "**Two simple functions - that's it!**\n",
    "\n",
    "#### Daily/Weekly Monitoring:\n",
    "```python\n",
    "daily_update()\n",
    "```\n",
    "\n",
    "#### Full Investment Analysis:\n",
    "```python\n",
    "comprehensive_analysis()\n",
    "```\n",
    "\n",
    "#### Claude Code Usage:\n",
    "Just tell Claude Code:\n",
    "\n",
    "> \"Analyze the stock in this notebook\"\n",
    "\n",
    "> \"Run daily update of the stock in this notebook\"\n",
    "\n",
    "> \"Now update your initial analysis\"\n",
    "\n",
    "<!-- > \"Run comprehensive analysis\"   -->\n",
    "\n",
    "**No parameters, no complexity - Claude Code automatically uses the current ticker and data!**"
   ]
  },
  {
   "cell_type": "code",
   "execution_count": null,
   "metadata": {},
   "outputs": [],
   "source": [
    "daily_update()"
   ]
  },
  {
   "cell_type": "code",
   "execution_count": null,
   "metadata": {},
   "outputs": [],
   "source": [
    "comprehensive_analysis()"
   ]
  },
  {
   "cell_type": "code",
   "execution_count": null,
   "metadata": {},
   "outputs": [],
   "source": [
    "stock = yf.Ticker('PGY')"
   ]
  },
  {
   "cell_type": "code",
   "execution_count": null,
   "metadata": {},
   "outputs": [],
   "source": []
  }
 ],
 "metadata": {
  "kernelspec": {
   "display_name": "venv-tyler",
   "language": "python",
   "name": "python3"
  },
  "language_info": {
   "codemirror_mode": {
    "name": "ipython",
    "version": 3
   },
   "file_extension": ".py",
   "mimetype": "text/x-python",
   "name": "python",
   "nbconvert_exporter": "python",
   "pygments_lexer": "ipython3",
   "version": "3.9.13"
  }
 },
 "nbformat": 4,
 "nbformat_minor": 2
}
