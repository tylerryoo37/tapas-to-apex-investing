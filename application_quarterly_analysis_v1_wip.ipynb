{
 "cells": [
  {
   "cell_type": "code",
   "execution_count": null,
   "metadata": {},
   "outputs": [],
   "source": [
    "# stock = yf.Ticker(ticker)\n",
    "\n",
    "# Various Stock Info\n",
    "# basic_financials = stock.info\n",
    "\n",
    "# Various Quarterly Reports\n",
    "# q_info = stock.quarterly_financials\n",
    "# stock.quarterly_balancesheet\n",
    "# stock.quarterly_cashflow\n",
    "# stock.quarterly_earnings\n",
    "# stock.quarterly_incomestmt"
   ]
  },
  {
   "cell_type": "code",
   "execution_count": null,
   "metadata": {},
   "outputs": [],
   "source": [
    "# One-click execution for Claude Code MCP integration\n",
    "# Run this cell and Claude Code can analyze immediately without additional prompts\n",
    "\n",
    "import yfinance as yf\n",
    "import pandas as pd\n",
    "import os\n",
    "import glob\n",
    "from datetime import datetime\n",
    "import numpy as np\n",
    "\n",
    "# Get all CSV files with 'stock_data' in filename\n",
    "stock_files = glob.glob(\"*stock_data*.csv\")\n",
    "\n",
    "print(\"Stock data files:\")\n",
    "for file in stock_files:\n",
    "    print(f\"  {file}\")\n",
    "    print()\n",
    "    \n",
    "# Quick analysis trigger for Claude Code\n",
    "def show_analysis_data(df, ticker, single_df):\n",
    "    \"\"\"Display formatted data for Claude Code analysis\"\"\"\n",
    "    col_width = 50\n",
    "    print(\"=\" * 80)\n",
    "    print(f\"📊 {df.loc['Company Name', ticker]} ({ticker}) - Financial Data\")\n",
    "    print(\"=\" * 80)\n",
    "    \n",
    "    for metric in df.index:\n",
    "        value = df.loc[metric, ticker]\n",
    "        if pd.notna(value) and metric != \"Business Summary\":\n",
    "            print(f\"{metric:<{col_width}} {value}\")\n",
    "    \n",
    "    # return single_df\n",
    "\n",
    "# Ready for: show_analysis_data() then direct analysis\n",
    "print(\"✅ Analysis function ready - Claude Code can call show_analysis_data()\")\n",
    "\n",
    "# Load data\n",
    "path = os.getcwd()\n",
    "file_name = \"stock_data_current_20250906_012221.csv\"\n",
    "file_path = path + \"/\" + file_name\n",
    "\n",
    "df = pd.read_csv(file_path, header=0)\n",
    "df = df.rename(columns={\"Unnamed: 0\": \"Metrics\"})\n",
    "df = df.set_index('Metrics')\n",
    "\n",
    "ticker = 'RKLB'\n",
    "single_df = df[ticker].to_frame()\n",
    "\n",
    "# Analysis is ready - Claude Code can now access df, single_df, and ticker variables\n",
    "print(\"✅ All data loaded - Claude Code ready for direct analysis\")\n",
    "\n",
    "show_analysis_data(df, ticker, single_df)"
   ]
  }
 ],
 "metadata": {
  "kernelspec": {
   "display_name": "venv-tyler",
   "language": "python",
   "name": "python3"
  },
  "language_info": {
   "codemirror_mode": {
    "name": "ipython",
    "version": 3
   },
   "file_extension": ".py",
   "mimetype": "text/x-python",
   "name": "python",
   "nbconvert_exporter": "python",
   "pygments_lexer": "ipython3",
   "version": "3.9.13"
  }
 },
 "nbformat": 4,
 "nbformat_minor": 2
}
